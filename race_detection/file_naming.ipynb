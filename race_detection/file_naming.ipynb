{
 "cells": [
  {
   "cell_type": "code",
   "execution_count": null,
   "id": "73362556",
   "metadata": {},
   "outputs": [],
   "source": [
    "images=os.listdir('C:/Users/leose/first_semester/CS_640/keras-multi-output-model-utk-face/test_images/img/')\n",
    "valid_images=[]\n",
    "for i in range(0,len(covid_labeled['name'])):\n",
    "    if str(covid_labeled['name'].iloc[i]) in str(images):\n",
    "        valid_images.append(str(covid_labeled['name'].iloc[i]))\n",
    "        \n",
    "images=os.listdir('C:/Users/leose/first_semester/CS_640/keras-multi-output-model-utk-face/test_images/img/')\n",
    "file_source='C:/Users/leose/first_semester/CS_640/keras-multi-output-model-utk-face/test_images/img/'\n",
    "new_file_source='C:/Users/leose/first_semester/CS_640/keras-multi-output-model-utk-face/test_images/other/'\n",
    "from os.path import exists\n",
    "for image in images:\n",
    "    new_image=image.lstrip('0123456789._- ')\n",
    "    if image ==new_image:\n",
    "        os.remove(file_source+image)\n",
    "    else:\n",
    "        os.rename(file_source+image,new_file_source+new_image)\n",
    "    \n",
    "test=os.listdir(new_file_source)\n",
    "print(len(images))\n",
    "print(len(test))\n",
    "final_valid_images=[]\n",
    "for i in range(0,len(valid_images)):\n",
    "    if valid_images[i] in str(test):\n",
    "        final_valid_images.append(valid_images[i])\n",
    "print(final_valid_images)\n",
    "\n",
    "import shutil\n",
    "\n",
    "for image in final_valid_images:\n",
    "        file=image+'.jpg'\n",
    "        file_source='C:/Users/leose/first_semester/CS_640/keras-multi-output-model-utk-face/test_images/other/'\n",
    "        file_destination='C:/Users/leose/first_semester/CS_640/keras-multi-output-model-utk-face/test_images/final/'\n",
    "        shutil.move(file_source + file, file_destination)"
   ]
  }
 ],
 "metadata": {
  "kernelspec": {
   "display_name": "Python 3 (ipykernel)",
   "language": "python",
   "name": "python3"
  },
  "language_info": {
   "codemirror_mode": {
    "name": "ipython",
    "version": 3
   },
   "file_extension": ".py",
   "mimetype": "text/x-python",
   "name": "python",
   "nbconvert_exporter": "python",
   "pygments_lexer": "ipython3",
   "version": "3.8.11"
  }
 },
 "nbformat": 4,
 "nbformat_minor": 5
}
