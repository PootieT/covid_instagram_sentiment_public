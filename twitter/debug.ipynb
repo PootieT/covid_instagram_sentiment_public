{
 "cells": [
  {
   "cell_type": "code",
   "execution_count": 1,
   "metadata": {},
   "outputs": [],
   "source": [
    "from torch.utils.data import DataLoader\n",
    "import pytorch_lightning as pl\n",
    "from transformers import RobertaTokenizer, DataCollatorWithPadding\n",
    "\n",
    "from dataset import sentenceClsData\n",
    "from recipes import Roberta\n",
    "import torch\n",
    "import numpy as np\n",
    "import pandas as pd"
   ]
  },
  {
   "cell_type": "code",
   "execution_count": 2,
   "metadata": {},
   "outputs": [
    {
     "data": {
      "text/plain": [
       "1"
      ]
     },
     "execution_count": 2,
     "metadata": {},
     "output_type": "execute_result"
    }
   ],
   "source": [
    "torch.cuda.device_count() "
   ]
  },
  {
   "cell_type": "code",
   "execution_count": 3,
   "metadata": {},
   "outputs": [],
   "source": [
    "read_csv = lambda x: pd.read_csv(x, header=None)"
   ]
  },
  {
   "cell_type": "code",
   "execution_count": 4,
   "metadata": {},
   "outputs": [],
   "source": [
    "linksNamesFilter = lambda x : False if '@' in x or 'http://'  in x else True\n",
    "\n",
    "def clean(s: str)-> str:\n",
    "    \n",
    "    words = s.lower().split()\n",
    "    words = [word for word in words if linksNamesFilter(word)]\n",
    "    \n",
    "    \n",
    "    fs = ' '.join(words)\n",
    "    \n",
    "    return fs.replace('#', '')\n",
    "    "
   ]
  },
  {
   "cell_type": "code",
   "execution_count": 5,
   "metadata": {},
   "outputs": [],
   "source": [
    "train_pth = '/projectnb/cs640g/students/pranchan/covid_instagram_sentiment/data/train_filtered.csv'\n",
    "val_pth = '/projectnb/cs640g/students/pranchan/covid_instagram_sentiment/data/dev_filtered.csv'\n",
    "test_pth = '/projectnb/cs640g/students/pranchan/covid_instagram_sentiment/data/test_filtered.csv'\n",
    "\n",
    "train = read_csv(train_pth).dropna()\n",
    "val = read_csv(val_pth).dropna()\n",
    "test = read_csv(test_pth).dropna()\n",
    "\n",
    "\n",
    "X_train, y_train = train[1].apply(clean).tolist(), train[0]\n",
    "X_val, y_val = val[1].apply(clean).tolist(), val[0]\n",
    "X_test, y_test = test[1].apply(clean).tolist(), test[0]\n",
    "# X_test, y_test = test[2].apply(clean).tolist(), test[2]\n"
   ]
  },
  {
   "cell_type": "code",
   "execution_count": 6,
   "metadata": {},
   "outputs": [
    {
     "data": {
      "text/html": [
       "<div>\n",
       "<style scoped>\n",
       "    .dataframe tbody tr th:only-of-type {\n",
       "        vertical-align: middle;\n",
       "    }\n",
       "\n",
       "    .dataframe tbody tr th {\n",
       "        vertical-align: top;\n",
       "    }\n",
       "\n",
       "    .dataframe thead th {\n",
       "        text-align: right;\n",
       "    }\n",
       "</style>\n",
       "<table border=\"1\" class=\"dataframe\">\n",
       "  <thead>\n",
       "    <tr style=\"text-align: right;\">\n",
       "      <th></th>\n",
       "      <th>0</th>\n",
       "      <th>1</th>\n",
       "    </tr>\n",
       "  </thead>\n",
       "  <tbody>\n",
       "    <tr>\n",
       "      <th>0</th>\n",
       "      <td>anger</td>\n",
       "      <td>This game has pissed me off more than any othe...</td>\n",
       "    </tr>\n",
       "    <tr>\n",
       "      <th>1</th>\n",
       "      <td>anger</td>\n",
       "      <td>@moocowward @mrsajhargreaves @Melly77 @GaryBar...</td>\n",
       "    </tr>\n",
       "    <tr>\n",
       "      <th>2</th>\n",
       "      <td>anger</td>\n",
       "      <td>@moocowward @mrsajhargreaves @Melly77 @GaryBar...</td>\n",
       "    </tr>\n",
       "    <tr>\n",
       "      <th>3</th>\n",
       "      <td>anger</td>\n",
       "      <td>@virginmedia I've been disconnected whilst on ...</td>\n",
       "    </tr>\n",
       "    <tr>\n",
       "      <th>4</th>\n",
       "      <td>anger</td>\n",
       "      <td>@eMilsOnWheels I'm furious 😩😩😩</td>\n",
       "    </tr>\n",
       "  </tbody>\n",
       "</table>\n",
       "</div>"
      ],
      "text/plain": [
       "       0                                                  1\n",
       "0  anger  This game has pissed me off more than any othe...\n",
       "1  anger  @moocowward @mrsajhargreaves @Melly77 @GaryBar...\n",
       "2  anger  @moocowward @mrsajhargreaves @Melly77 @GaryBar...\n",
       "3  anger  @virginmedia I've been disconnected whilst on ...\n",
       "4  anger                     @eMilsOnWheels I'm furious 😩😩😩"
      ]
     },
     "execution_count": 6,
     "metadata": {},
     "output_type": "execute_result"
    }
   ],
   "source": [
    "test.head()"
   ]
  },
  {
   "cell_type": "code",
   "execution_count": 7,
   "metadata": {},
   "outputs": [],
   "source": [
    "cmap = {'anger':0, 'fear':1, 'joy':2, 'sadness':3}"
   ]
  },
  {
   "cell_type": "code",
   "execution_count": 8,
   "metadata": {},
   "outputs": [],
   "source": [
    "checkpoint = \"roberta-base\"\n",
    "tokenizer = RobertaTokenizer.from_pretrained(checkpoint)\n",
    "\n",
    "token_train = tokenizer(X_train, truncation=True)\n",
    "token_val = tokenizer(X_val, truncation=True)\n",
    "token_test = tokenizer(X_test, truncation=True)\n",
    "\n",
    "token_train['labels'] = [cmap[i] for i in y_train]\n",
    "token_val['labels'] = [cmap[i] for i in y_val]\n",
    "token_test['labels'] = [cmap[i] for i in y_test]\n",
    "# token_test['labels'] = [0 for i in y_test]\n",
    "\n",
    "train_data = sentenceClsData(token_train)\n",
    "val_data  = sentenceClsData(token_val)\n",
    "test_data = sentenceClsData(token_test)\n"
   ]
  },
  {
   "cell_type": "code",
   "execution_count": 9,
   "metadata": {},
   "outputs": [
    {
     "data": {
      "text/plain": [
       "{'anger': 0, 'fear': 1, 'joy': 2, 'sadness': 3}"
      ]
     },
     "execution_count": 9,
     "metadata": {},
     "output_type": "execute_result"
    }
   ],
   "source": [
    "cmap"
   ]
  },
  {
   "cell_type": "code",
   "execution_count": 10,
   "metadata": {},
   "outputs": [],
   "source": [
    "data_collator = DataCollatorWithPadding(tokenizer=tokenizer)\n",
    "train_dataloader = DataLoader(\n",
    "    train_data, shuffle=True, batch_size=4, collate_fn=data_collator, num_workers=4\n",
    ")\n",
    "eval_dataloader = DataLoader(\n",
    "    val_data, batch_size=16, collate_fn=data_collator, num_workers=4\n",
    ")\n",
    "\n",
    "test_dataloader = DataLoader(\n",
    "    test_data, batch_size=16, collate_fn=data_collator, num_workers=4\n",
    ")"
   ]
  },
  {
   "cell_type": "code",
   "execution_count": null,
   "metadata": {},
   "outputs": [
    {
     "name": "stderr",
     "output_type": "stream",
     "text": [
      "Some weights of the model checkpoint at roberta-base were not used when initializing RobertaForSequenceClassification: ['lm_head.dense.bias', 'lm_head.bias', 'lm_head.layer_norm.bias', 'lm_head.dense.weight', 'roberta.pooler.dense.bias', 'roberta.pooler.dense.weight', 'lm_head.layer_norm.weight', 'lm_head.decoder.weight']\n",
      "- This IS expected if you are initializing RobertaForSequenceClassification from the checkpoint of a model trained on another task or with another architecture (e.g. initializing a BertForSequenceClassification model from a BertForPreTraining model).\n",
      "- This IS NOT expected if you are initializing RobertaForSequenceClassification from the checkpoint of a model that you expect to be exactly identical (initializing a BertForSequenceClassification model from a BertForSequenceClassification model).\n",
      "Some weights of RobertaForSequenceClassification were not initialized from the model checkpoint at roberta-base and are newly initialized: ['classifier.out_proj.bias', 'classifier.dense.weight', 'classifier.dense.bias', 'classifier.out_proj.weight']\n",
      "You should probably TRAIN this model on a down-stream task to be able to use it for predictions and inference.\n",
      "/projectnb/saenkog/praneeth/.conda/envs/cs640/lib/python3.9/site-packages/pytorch_lightning/trainer/connectors/callback_connector.py:90: LightningDeprecationWarning: Setting `Trainer(progress_bar_refresh_rate=10)` is deprecated in v1.5 and will be removed in v1.7. Please pass `pytorch_lightning.callbacks.progress.TQDMProgressBar` with `refresh_rate` directly to the Trainer's `callbacks` argument instead. Or, to disable the progress bar pass `enable_progress_bar = False` to the Trainer.\n",
      "  rank_zero_deprecation(\n",
      "GPU available: True, used: True\n",
      "TPU available: False, using: 0 TPU cores\n",
      "IPU available: False, using: 0 IPUs\n",
      "LOCAL_RANK: 0 - CUDA_VISIBLE_DEVICES: [0]\n",
      "\n",
      "  | Name  | Type                             | Params\n",
      "-----------------------------------------------------------\n",
      "0 | model | RobertaForSequenceClassification | 124 M \n",
      "-----------------------------------------------------------\n",
      "124 M     Trainable params\n",
      "0         Non-trainable params\n",
      "124 M     Total params\n",
      "498.595   Total estimated model params size (MB)\n"
     ]
    },
    {
     "data": {
      "application/vnd.jupyter.widget-view+json": {
       "model_id": "5cb4bdc25a5c47439f4e21c9b565f398",
       "version_major": 2,
       "version_minor": 0
      },
      "text/plain": [
       "Validation sanity check: 0it [00:00, ?it/s]"
      ]
     },
     "metadata": {},
     "output_type": "display_data"
    },
    {
     "data": {
      "application/vnd.jupyter.widget-view+json": {
       "model_id": "ad870629941b48cc9d9f8f0c26fb1962",
       "version_major": 2,
       "version_minor": 0
      },
      "text/plain": [
       "Training: 0it [00:00, ?it/s]"
      ]
     },
     "metadata": {},
     "output_type": "display_data"
    }
   ],
   "source": [
    "model = Roberta(checkpoint, 4, train_dataloader, eval_dataloader)\n",
    "trainer = pl.Trainer(\n",
    "    progress_bar_refresh_rate=10,\n",
    "    max_epochs=5,\n",
    "    gpus=1,\n",
    "    logger=pl.loggers.TensorBoardLogger(\"lightning_logs/\", name=\"collated\"),\n",
    ")\n",
    "trainer.fit(model)"
   ]
  },
  {
   "cell_type": "code",
   "execution_count": null,
   "metadata": {},
   "outputs": [],
   "source": [
    "device = torch.device(\"cuda\") if torch.cuda.is_available() else torch.device(\"cpu\")\n",
    "model.to(device)\n",
    "model.eval()\n",
    "preds, labels = [], []\n",
    "for batch in test_dataloader:\n",
    "    batch = {k: v.to(device) for k, v in batch.items()}\n",
    "    with torch.no_grad():\n",
    "        outputs = model(**batch)\n",
    "\n",
    "    logits = outputs.logits\n",
    "    logits = torch.argmax(logits, axis=1)\n",
    "    # logits = torch.softmax(logits, axis=1)\n",
    "    # preds.append(logits.cpu().numpy())\n",
    "    \n",
    "    preds.extend(logits.cpu().tolist())\n",
    "    labels.extend(batch['labels'].tolist())"
   ]
  },
  {
   "cell_type": "code",
   "execution_count": 31,
   "metadata": {},
   "outputs": [],
   "source": [
    "labels = np.array(labels)\n",
    "preds = np.array(preds)"
   ]
  },
  {
   "cell_type": "code",
   "execution_count": 32,
   "metadata": {},
   "outputs": [],
   "source": [
    "from sklearn.metrics import classification_report"
   ]
  },
  {
   "cell_type": "code",
   "execution_count": 33,
   "metadata": {},
   "outputs": [],
   "source": [
    "n, l = zip(*cmap.items())"
   ]
  },
  {
   "cell_type": "code",
   "execution_count": 34,
   "metadata": {},
   "outputs": [
    {
     "name": "stdout",
     "output_type": "stream",
     "text": [
      "              precision    recall  f1-score   support\n",
      "\n",
      "       anger       0.90      0.85      0.87       380\n",
      "        fear       0.83      0.88      0.85       504\n",
      "         joy       0.95      0.98      0.96       377\n",
      "     sadness       0.85      0.81      0.83       349\n",
      "\n",
      "    accuracy                           0.88      1610\n",
      "   macro avg       0.88      0.88      0.88      1610\n",
      "weighted avg       0.88      0.88      0.88      1610\n",
      "\n"
     ]
    }
   ],
   "source": [
    "print(classification_report(labels, preds, labels=l, target_names=n))"
   ]
  },
  {
   "cell_type": "code",
   "execution_count": 19,
   "metadata": {},
   "outputs": [
    {
     "data": {
      "text/plain": [
       "array([0, 0, 0, ..., 3, 3, 0])"
      ]
     },
     "execution_count": 19,
     "metadata": {},
     "output_type": "execute_result"
    }
   ],
   "source": [
    "preds"
   ]
  },
  {
   "cell_type": "code",
   "execution_count": 20,
   "metadata": {},
   "outputs": [
    {
     "data": {
      "text/plain": [
       "array([0, 0, 0, ..., 0, 0, 0])"
      ]
     },
     "execution_count": 20,
     "metadata": {},
     "output_type": "execute_result"
    }
   ],
   "source": [
    "labels"
   ]
  },
  {
   "cell_type": "code",
   "execution_count": 46,
   "metadata": {},
   "outputs": [],
   "source": [
    "a = torch.rand(4, 6)"
   ]
  },
  {
   "cell_type": "code",
   "execution_count": 47,
   "metadata": {},
   "outputs": [
    {
     "data": {
      "text/plain": [
       "tensor([[0.1832, 0.1197, 0.8428, 0.7713, 0.4780, 0.1263],\n",
       "        [0.0243, 0.9207, 0.0852, 0.2365, 0.4308, 0.2383],\n",
       "        [0.9016, 0.2516, 0.5143, 0.5447, 0.9926, 0.0947],\n",
       "        [0.8774, 0.1750, 0.6554, 0.2305, 0.0318, 0.8707]], device='cuda:0')"
      ]
     },
     "execution_count": 47,
     "metadata": {},
     "output_type": "execute_result"
    }
   ],
   "source": [
    "a.to(\"cuda\")"
   ]
  },
  {
   "cell_type": "code",
   "execution_count": 48,
   "metadata": {},
   "outputs": [
    {
     "data": {
      "text/plain": [
       "array([0, 1, 2, 3])"
      ]
     },
     "execution_count": 48,
     "metadata": {},
     "output_type": "execute_result"
    }
   ],
   "source": [
    "np.unique(preds)"
   ]
  },
  {
   "cell_type": "code",
   "execution_count": 14,
   "metadata": {},
   "outputs": [
    {
     "data": {
      "text/plain": [
       "{'anger': 0, 'fear': 1, 'joy': 2, 'sadness': 3}"
      ]
     },
     "execution_count": 14,
     "metadata": {},
     "output_type": "execute_result"
    }
   ],
   "source": [
    "cmap"
   ]
  },
  {
   "cell_type": "code",
   "execution_count": 37,
   "metadata": {},
   "outputs": [
    {
     "data": {
      "text/html": [
       "<div>\n",
       "<style scoped>\n",
       "    .dataframe tbody tr th:only-of-type {\n",
       "        vertical-align: middle;\n",
       "    }\n",
       "\n",
       "    .dataframe tbody tr th {\n",
       "        vertical-align: top;\n",
       "    }\n",
       "\n",
       "    .dataframe thead th {\n",
       "        text-align: right;\n",
       "    }\n",
       "</style>\n",
       "<table border=\"1\" class=\"dataframe\">\n",
       "  <thead>\n",
       "    <tr style=\"text-align: right;\">\n",
       "      <th></th>\n",
       "      <th>0</th>\n",
       "      <th>1</th>\n",
       "      <th>2</th>\n",
       "      <th>preds</th>\n",
       "    </tr>\n",
       "  </thead>\n",
       "  <tbody>\n",
       "    <tr>\n",
       "      <th>0</th>\n",
       "      <td>en</td>\n",
       "      <td>#covid #covid2020 #covidvirus #virus #coronava...</td>\n",
       "      <td>#covid #covid2020 #covidvirus #virus #coronava...</td>\n",
       "      <td>1</td>\n",
       "    </tr>\n",
       "    <tr>\n",
       "      <th>1</th>\n",
       "      <td>en</td>\n",
       "      <td>Well this is the final mural of my trip in Aus...</td>\n",
       "      <td>Well this is the final mural of my trip in Aus...</td>\n",
       "      <td>3</td>\n",
       "    </tr>\n",
       "    <tr>\n",
       "      <th>2</th>\n",
       "      <td>pt</td>\n",
       "      <td>Chegamos !!! Vão seguindo o movimento... Tem m...</td>\n",
       "      <td>We have arrived!!! Keep following the movement...</td>\n",
       "      <td>2</td>\n",
       "    </tr>\n",
       "    <tr>\n",
       "      <th>3</th>\n",
       "      <td>en</td>\n",
       "      <td>😻😻😻😻😻</td>\n",
       "      <td>😻😻😻😻😻</td>\n",
       "      <td>2</td>\n",
       "    </tr>\n",
       "    <tr>\n",
       "      <th>4</th>\n",
       "      <td>es</td>\n",
       "      <td>EN MI DOMICILIO 🏡 #quedateencasa 📲 0414-464.18...</td>\n",
       "      <td>AT MY HOME 🏡 #quedateencasa 📲 0414-464.18.89. ...</td>\n",
       "      <td>1</td>\n",
       "    </tr>\n",
       "    <tr>\n",
       "      <th>...</th>\n",
       "      <td>...</td>\n",
       "      <td>...</td>\n",
       "      <td>...</td>\n",
       "      <td>...</td>\n",
       "    </tr>\n",
       "    <tr>\n",
       "      <th>9643</th>\n",
       "      <td>en</td>\n",
       "      <td>#water #foryou #followforfollowback #photograp...</td>\n",
       "      <td>#water #foryou #followforfollowback #photograp...</td>\n",
       "      <td>1</td>\n",
       "    </tr>\n",
       "    <tr>\n",
       "      <th>9644</th>\n",
       "      <td>en</td>\n",
       "      <td>#like4likes #20likes #tagforlikes #instalikes ...</td>\n",
       "      <td>#like4likes #20likes #tagforlikes #instalikes ...</td>\n",
       "      <td>1</td>\n",
       "    </tr>\n",
       "    <tr>\n",
       "      <th>9645</th>\n",
       "      <td>fr</td>\n",
       "      <td>🙈🥰😍👉🏽 @love_serie_karma #daancorona #daancoron...</td>\n",
       "      <td>🙈🥰😍👉🏽 @love_serie_karma #daancorona #daancoron...</td>\n",
       "      <td>1</td>\n",
       "    </tr>\n",
       "    <tr>\n",
       "      <th>9646</th>\n",
       "      <td>en</td>\n",
       "      <td>💥🚨 𝗙𝗔𝗟𝗟 𝗜𝗦 𝗖𝗢𝗠𝗜𝗡𝗚 🚨💥⁣ ⁣ 𝘼𝙧𝙚 𝙮𝙤𝙪 𝙧𝙚𝙖𝙙𝙮 𝙛𝙤𝙧 𝙖 𝙣𝙚...</td>\n",
       "      <td>💥🚨 𝗙𝗔𝗟𝗟 𝗜𝗦 𝗖𝗢𝗠𝗜𝗡𝗚 🚨💥⁣ ⁣ 𝘼𝙧𝙚 𝙮𝙤𝙪 𝙧𝙚𝙖𝙙𝙮 𝙛𝙤𝙧 𝙖 𝙣𝙚...</td>\n",
       "      <td>1</td>\n",
       "    </tr>\n",
       "    <tr>\n",
       "      <th>9647</th>\n",
       "      <td>en</td>\n",
       "      <td>Follow me @kestine_kylie . . #aimankhan #minal...</td>\n",
       "      <td>Follow me @kestine_kylie . . #aimankhan #minal...</td>\n",
       "      <td>1</td>\n",
       "    </tr>\n",
       "  </tbody>\n",
       "</table>\n",
       "<p>9589 rows × 4 columns</p>\n",
       "</div>"
      ],
      "text/plain": [
       "       0                                                  1  \\\n",
       "0     en  #covid #covid2020 #covidvirus #virus #coronava...   \n",
       "1     en  Well this is the final mural of my trip in Aus...   \n",
       "2     pt  Chegamos !!! Vão seguindo o movimento... Tem m...   \n",
       "3     en                                              😻😻😻😻😻   \n",
       "4     es  EN MI DOMICILIO 🏡 #quedateencasa 📲 0414-464.18...   \n",
       "...   ..                                                ...   \n",
       "9643  en  #water #foryou #followforfollowback #photograp...   \n",
       "9644  en  #like4likes #20likes #tagforlikes #instalikes ...   \n",
       "9645  fr  🙈🥰😍👉🏽 @love_serie_karma #daancorona #daancoron...   \n",
       "9646  en  💥🚨 𝗙𝗔𝗟𝗟 𝗜𝗦 𝗖𝗢𝗠𝗜𝗡𝗚 🚨💥⁣ ⁣ 𝘼𝙧𝙚 𝙮𝙤𝙪 𝙧𝙚𝙖𝙙𝙮 𝙛𝙤𝙧 𝙖 𝙣𝙚...   \n",
       "9647  en  Follow me @kestine_kylie . . #aimankhan #minal...   \n",
       "\n",
       "                                                      2  preds  \n",
       "0     #covid #covid2020 #covidvirus #virus #coronava...      1  \n",
       "1     Well this is the final mural of my trip in Aus...      3  \n",
       "2     We have arrived!!! Keep following the movement...      2  \n",
       "3                                                 😻😻😻😻😻      2  \n",
       "4     AT MY HOME 🏡 #quedateencasa 📲 0414-464.18.89. ...      1  \n",
       "...                                                 ...    ...  \n",
       "9643  #water #foryou #followforfollowback #photograp...      1  \n",
       "9644  #like4likes #20likes #tagforlikes #instalikes ...      1  \n",
       "9645  🙈🥰😍👉🏽 @love_serie_karma #daancorona #daancoron...      1  \n",
       "9646  💥🚨 𝗙𝗔𝗟𝗟 𝗜𝗦 𝗖𝗢𝗠𝗜𝗡𝗚 🚨💥⁣ ⁣ 𝘼𝙧𝙚 𝙮𝙤𝙪 𝙧𝙚𝙖𝙙𝙮 𝙛𝙤𝙧 𝙖 𝙣𝙚...      1  \n",
       "9647  Follow me @kestine_kylie . . #aimankhan #minal...      1  \n",
       "\n",
       "[9589 rows x 4 columns]"
      ]
     },
     "execution_count": 37,
     "metadata": {},
     "output_type": "execute_result"
    }
   ],
   "source": [
    "test"
   ]
  },
  {
   "cell_type": "code",
   "execution_count": 38,
   "metadata": {},
   "outputs": [],
   "source": [
    "test['preds'] = pd.Series(preds, index=test.index)"
   ]
  },
  {
   "cell_type": "code",
   "execution_count": 39,
   "metadata": {},
   "outputs": [],
   "source": [
    "imap = dict([(float(i), j) for j, i in cmap.items()])"
   ]
  },
  {
   "cell_type": "code",
   "execution_count": 40,
   "metadata": {},
   "outputs": [
    {
     "data": {
      "text/plain": [
       "{0.0: 'anger', 1.0: 'fear', 2.0: 'joy', 3.0: 'sadness'}"
      ]
     },
     "execution_count": 40,
     "metadata": {},
     "output_type": "execute_result"
    }
   ],
   "source": [
    "imap"
   ]
  },
  {
   "cell_type": "code",
   "execution_count": 41,
   "metadata": {},
   "outputs": [],
   "source": [
    "test['preds'] = test['preds'].map(imap)"
   ]
  },
  {
   "cell_type": "code",
   "execution_count": 42,
   "metadata": {},
   "outputs": [
    {
     "data": {
      "text/html": [
       "<div>\n",
       "<style scoped>\n",
       "    .dataframe tbody tr th:only-of-type {\n",
       "        vertical-align: middle;\n",
       "    }\n",
       "\n",
       "    .dataframe tbody tr th {\n",
       "        vertical-align: top;\n",
       "    }\n",
       "\n",
       "    .dataframe thead th {\n",
       "        text-align: right;\n",
       "    }\n",
       "</style>\n",
       "<table border=\"1\" class=\"dataframe\">\n",
       "  <thead>\n",
       "    <tr style=\"text-align: right;\">\n",
       "      <th></th>\n",
       "      <th>0</th>\n",
       "      <th>1</th>\n",
       "      <th>2</th>\n",
       "      <th>preds</th>\n",
       "    </tr>\n",
       "  </thead>\n",
       "  <tbody>\n",
       "    <tr>\n",
       "      <th>0</th>\n",
       "      <td>en</td>\n",
       "      <td>#covid #covid2020 #covidvirus #virus #coronava...</td>\n",
       "      <td>#covid #covid2020 #covidvirus #virus #coronava...</td>\n",
       "      <td>fear</td>\n",
       "    </tr>\n",
       "    <tr>\n",
       "      <th>1</th>\n",
       "      <td>en</td>\n",
       "      <td>Well this is the final mural of my trip in Aus...</td>\n",
       "      <td>Well this is the final mural of my trip in Aus...</td>\n",
       "      <td>sadness</td>\n",
       "    </tr>\n",
       "    <tr>\n",
       "      <th>2</th>\n",
       "      <td>pt</td>\n",
       "      <td>Chegamos !!! Vão seguindo o movimento... Tem m...</td>\n",
       "      <td>We have arrived!!! Keep following the movement...</td>\n",
       "      <td>joy</td>\n",
       "    </tr>\n",
       "    <tr>\n",
       "      <th>3</th>\n",
       "      <td>en</td>\n",
       "      <td>😻😻😻😻😻</td>\n",
       "      <td>😻😻😻😻😻</td>\n",
       "      <td>joy</td>\n",
       "    </tr>\n",
       "    <tr>\n",
       "      <th>4</th>\n",
       "      <td>es</td>\n",
       "      <td>EN MI DOMICILIO 🏡 #quedateencasa 📲 0414-464.18...</td>\n",
       "      <td>AT MY HOME 🏡 #quedateencasa 📲 0414-464.18.89. ...</td>\n",
       "      <td>fear</td>\n",
       "    </tr>\n",
       "    <tr>\n",
       "      <th>...</th>\n",
       "      <td>...</td>\n",
       "      <td>...</td>\n",
       "      <td>...</td>\n",
       "      <td>...</td>\n",
       "    </tr>\n",
       "    <tr>\n",
       "      <th>9643</th>\n",
       "      <td>en</td>\n",
       "      <td>#water #foryou #followforfollowback #photograp...</td>\n",
       "      <td>#water #foryou #followforfollowback #photograp...</td>\n",
       "      <td>fear</td>\n",
       "    </tr>\n",
       "    <tr>\n",
       "      <th>9644</th>\n",
       "      <td>en</td>\n",
       "      <td>#like4likes #20likes #tagforlikes #instalikes ...</td>\n",
       "      <td>#like4likes #20likes #tagforlikes #instalikes ...</td>\n",
       "      <td>fear</td>\n",
       "    </tr>\n",
       "    <tr>\n",
       "      <th>9645</th>\n",
       "      <td>fr</td>\n",
       "      <td>🙈🥰😍👉🏽 @love_serie_karma #daancorona #daancoron...</td>\n",
       "      <td>🙈🥰😍👉🏽 @love_serie_karma #daancorona #daancoron...</td>\n",
       "      <td>fear</td>\n",
       "    </tr>\n",
       "    <tr>\n",
       "      <th>9646</th>\n",
       "      <td>en</td>\n",
       "      <td>💥🚨 𝗙𝗔𝗟𝗟 𝗜𝗦 𝗖𝗢𝗠𝗜𝗡𝗚 🚨💥⁣ ⁣ 𝘼𝙧𝙚 𝙮𝙤𝙪 𝙧𝙚𝙖𝙙𝙮 𝙛𝙤𝙧 𝙖 𝙣𝙚...</td>\n",
       "      <td>💥🚨 𝗙𝗔𝗟𝗟 𝗜𝗦 𝗖𝗢𝗠𝗜𝗡𝗚 🚨💥⁣ ⁣ 𝘼𝙧𝙚 𝙮𝙤𝙪 𝙧𝙚𝙖𝙙𝙮 𝙛𝙤𝙧 𝙖 𝙣𝙚...</td>\n",
       "      <td>fear</td>\n",
       "    </tr>\n",
       "    <tr>\n",
       "      <th>9647</th>\n",
       "      <td>en</td>\n",
       "      <td>Follow me @kestine_kylie . . #aimankhan #minal...</td>\n",
       "      <td>Follow me @kestine_kylie . . #aimankhan #minal...</td>\n",
       "      <td>fear</td>\n",
       "    </tr>\n",
       "  </tbody>\n",
       "</table>\n",
       "<p>9589 rows × 4 columns</p>\n",
       "</div>"
      ],
      "text/plain": [
       "       0                                                  1  \\\n",
       "0     en  #covid #covid2020 #covidvirus #virus #coronava...   \n",
       "1     en  Well this is the final mural of my trip in Aus...   \n",
       "2     pt  Chegamos !!! Vão seguindo o movimento... Tem m...   \n",
       "3     en                                              😻😻😻😻😻   \n",
       "4     es  EN MI DOMICILIO 🏡 #quedateencasa 📲 0414-464.18...   \n",
       "...   ..                                                ...   \n",
       "9643  en  #water #foryou #followforfollowback #photograp...   \n",
       "9644  en  #like4likes #20likes #tagforlikes #instalikes ...   \n",
       "9645  fr  🙈🥰😍👉🏽 @love_serie_karma #daancorona #daancoron...   \n",
       "9646  en  💥🚨 𝗙𝗔𝗟𝗟 𝗜𝗦 𝗖𝗢𝗠𝗜𝗡𝗚 🚨💥⁣ ⁣ 𝘼𝙧𝙚 𝙮𝙤𝙪 𝙧𝙚𝙖𝙙𝙮 𝙛𝙤𝙧 𝙖 𝙣𝙚...   \n",
       "9647  en  Follow me @kestine_kylie . . #aimankhan #minal...   \n",
       "\n",
       "                                                      2    preds  \n",
       "0     #covid #covid2020 #covidvirus #virus #coronava...     fear  \n",
       "1     Well this is the final mural of my trip in Aus...  sadness  \n",
       "2     We have arrived!!! Keep following the movement...      joy  \n",
       "3                                                 😻😻😻😻😻      joy  \n",
       "4     AT MY HOME 🏡 #quedateencasa 📲 0414-464.18.89. ...     fear  \n",
       "...                                                 ...      ...  \n",
       "9643  #water #foryou #followforfollowback #photograp...     fear  \n",
       "9644  #like4likes #20likes #tagforlikes #instalikes ...     fear  \n",
       "9645  🙈🥰😍👉🏽 @love_serie_karma #daancorona #daancoron...     fear  \n",
       "9646  💥🚨 𝗙𝗔𝗟𝗟 𝗜𝗦 𝗖𝗢𝗠𝗜𝗡𝗚 🚨💥⁣ ⁣ 𝘼𝙧𝙚 𝙮𝙤𝙪 𝙧𝙚𝙖𝙙𝙮 𝙛𝙤𝙧 𝙖 𝙣𝙚...     fear  \n",
       "9647  Follow me @kestine_kylie . . #aimankhan #minal...     fear  \n",
       "\n",
       "[9589 rows x 4 columns]"
      ]
     },
     "execution_count": 42,
     "metadata": {},
     "output_type": "execute_result"
    }
   ],
   "source": [
    "test"
   ]
  },
  {
   "cell_type": "code",
   "execution_count": 30,
   "metadata": {},
   "outputs": [
    {
     "data": {
      "text/plain": [
       "(9589, 4)"
      ]
     },
     "execution_count": 30,
     "metadata": {},
     "output_type": "execute_result"
    }
   ],
   "source": [
    "test.sha"
   ]
  },
  {
   "cell_type": "code",
   "execution_count": 31,
   "metadata": {},
   "outputs": [
    {
     "data": {
      "text/plain": [
       "(9589,)"
      ]
     },
     "execution_count": 31,
     "metadata": {},
     "output_type": "execute_result"
    }
   ],
   "source": [
    "preds.shape"
   ]
  },
  {
   "cell_type": "code",
   "execution_count": 43,
   "metadata": {},
   "outputs": [],
   "source": [
    "test.to_csv('../insta_predictions.csv', index=False)"
   ]
  },
  {
   "cell_type": "code",
   "execution_count": 50,
   "metadata": {},
   "outputs": [],
   "source": [
    "pred = np.vstack(preds)"
   ]
  },
  {
   "cell_type": "code",
   "execution_count": 51,
   "metadata": {},
   "outputs": [
    {
     "data": {
      "text/plain": [
       "(9589, 4)"
      ]
     },
     "execution_count": 51,
     "metadata": {},
     "output_type": "execute_result"
    }
   ],
   "source": [
    "pred.shape"
   ]
  },
  {
   "cell_type": "code",
   "execution_count": 52,
   "metadata": {},
   "outputs": [
    {
     "data": {
      "text/plain": [
       "{0.0: 'anger', 1.0: 'fear', 2.0: 'joy', 3.0: 'sadness'}"
      ]
     },
     "execution_count": 52,
     "metadata": {},
     "output_type": "execute_result"
    }
   ],
   "source": [
    "imap"
   ]
  },
  {
   "cell_type": "code",
   "execution_count": 53,
   "metadata": {},
   "outputs": [
    {
     "data": {
      "text/plain": [
       "'anger'"
      ]
     },
     "execution_count": 53,
     "metadata": {},
     "output_type": "execute_result"
    }
   ],
   "source": [
    "imap[0]"
   ]
  },
  {
   "cell_type": "code",
   "execution_count": 56,
   "metadata": {},
   "outputs": [],
   "source": [
    "for i in range(4):\n",
    "    test[imap[i]] = pd.Series(pred[:, i], index=test.index)"
   ]
  },
  {
   "cell_type": "code",
   "execution_count": 58,
   "metadata": {},
   "outputs": [],
   "source": [
    "test.to_csv('../insta_predictions_prob.csv', index=False)"
   ]
  },
  {
   "cell_type": "code",
   "execution_count": null,
   "metadata": {},
   "outputs": [],
   "source": []
  }
 ],
 "metadata": {
  "interpreter": {
   "hash": "b9da207ee138cd3a224eecd014c135f36687563d7d84a218fe7cf633736657bb"
  },
  "kernelspec": {
   "display_name": "Python 3 (ipykernel)",
   "language": "python",
   "name": "python3"
  },
  "language_info": {
   "codemirror_mode": {
    "name": "ipython",
    "version": 3
   },
   "file_extension": ".py",
   "mimetype": "text/x-python",
   "name": "python",
   "nbconvert_exporter": "python",
   "pygments_lexer": "ipython3",
   "version": "3.9.7"
  }
 },
 "nbformat": 4,
 "nbformat_minor": 4
}
